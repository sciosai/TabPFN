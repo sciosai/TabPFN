{
 "cells": [
  {
   "cell_type": "markdown",
   "metadata": {
    "id": "yHZXf8uaQrB2"
   },
   "source": [
    "# Fine-tuning TabPFN on the Covertype Dataset\n",
    "\n",
    "This notebook demonstrates an example of how to fine-tune a TabPFNClassifier on the Covertype dataset. The process involves preparing the data, setting up the model and optimizer, and then running a training loop that alternates between fine-tuning the model on batches of data and evaluating its performance.\n",
    "\n",
    "The original script can be encapsulated into a scikit-learn compatible classifier structure like the one below, which provides a clear fit/predict interface.\n"
   ]
  },
  {
   "cell_type": "code",
   "execution_count": null,
   "metadata": {
    "id": "48wb7991OV_V"
   },
   "outputs": [],
   "source": [
    "# Install Baselines for model comparison\n",
    "!uv pip install catboost xgboost\n",
    "\n",
    "# Install the datasets library for loading example data\n",
    "!uv pip install datasets\n",
    "\n",
    "# Install rich for better and more readable printing\n",
    "!uv pip install rich\n",
    "\n",
    "# Install the TabPFN Client and library\n",
    "!uv pip install tabpfn-client\n",
    "!git clone https://github.com/PriorLabs/tabpfn\n",
    "!uv pip install -e tabpfn\n",
    "\n",
    "# Install TabPFN extensions for additional functionalities\n",
    "!git clone https://github.com/PriorLabs/tabpfn-extensions\n",
    "!uv pip install -e tabpfn-extensions[all]"
   ]
  },
  {
   "cell_type": "code",
   "execution_count": 1,
   "metadata": {
    "id": "Ok5QixQZREW5"
   },
   "outputs": [],
   "source": [
    "from functools import partial\n",
    "\n",
    "import numpy as np\n",
    "import sklearn.datasets\n",
    "import torch\n",
    "from sklearn.metrics import log_loss, roc_auc_score\n",
    "from sklearn.model_selection import train_test_split\n",
    "from torch.optim import Adam, Optimizer\n",
    "from torch.utils.data import DataLoader\n",
    "from tqdm import tqdm\n",
    "\n",
    "from tabpfn import TabPFNClassifier\n",
    "from tabpfn.finetune_utils import clone_model_for_evaluation\n",
    "from tabpfn.utils import meta_dataset_collator"
   ]
  },
  {
   "cell_type": "markdown",
   "metadata": {
    "id": "1ipSxz-mQ_KE"
   },
   "source": [
    "### 2\\. Data Preparation\n",
    "\n",
    "We'll start by defining a function to load the Covertype dataset from `sklearn.datasets`. We will then subset it to a manageable size and split it into training and testing sets."
   ]
  },
  {
   "cell_type": "code",
   "execution_count": 2,
   "metadata": {
    "id": "UgGGKgT7RKQN"
   },
   "outputs": [],
   "source": [
    "def prepare_data(config: dict) -> tuple[np.ndarray, np.ndarray, np.ndarray, np.ndarray]:\n",
    "    \"\"\"Loads, subsets, and splits the Covertype dataset.\"\"\"\n",
    "    print(\"--- 1. Data Preparation ---\")\n",
    "    X_all, y_all = sklearn.datasets.fetch_covtype(return_X_y=True, shuffle=True)\n",
    "\n",
    "    rng = np.random.default_rng(config[\"random_seed\"])\n",
    "    num_samples_to_use = min(config[\"num_samples_to_use\"], len(y_all))\n",
    "    indices = rng.choice(np.arange(len(y_all)), size=num_samples_to_use, replace=False)\n",
    "    X, y = X_all[indices], y_all[indices]\n",
    "\n",
    "    splitter = partial(\n",
    "        train_test_split,\n",
    "        test_size=config[\"test_set_ratio\"],\n",
    "        random_state=config[\"random_seed\"],\n",
    "    )\n",
    "    X_train, X_test, y_train, y_test = splitter(X, y, stratify=y)\n",
    "\n",
    "    print(\n",
    "        f\"Loaded and split data: {X_train.shape[0]} train, {X_test.shape[0]} test samples.\"\n",
    "    )\n",
    "    print(\"---------------------------\\n\")\n",
    "    return X_train, X_test, y_train, y_test"
   ]
  },
  {
   "cell_type": "markdown",
   "metadata": {
    "id": "ux4hSEOBROPt"
   },
   "source": [
    "### 3\\. Model and Optimizer Setup\n",
    "\n",
    "Next, we'll set up the `TabPFNClassifier`. We initialize it with a configuration suitable for fine-tuning, including ignoring pre-training size limits. The optimizer is an `Adam` optimizer, configured with a specific learning rate for the fine-tuning process."
   ]
  },
  {
   "cell_type": "code",
   "execution_count": 3,
   "metadata": {
    "id": "qDBpYNOyRR3t"
   },
   "outputs": [],
   "source": [
    "def setup_model_and_optimizer(config: dict) -> tuple[TabPFNClassifier, Optimizer, dict]:\n",
    "    \"\"\"Initializes the TabPFN classifier, optimizer, and training configs.\"\"\"\n",
    "    print(\"--- 2. Model and Optimizer Setup ---\")\n",
    "    classifier_config = {\n",
    "        \"ignore_pretraining_limits\": True,\n",
    "        \"device\": config[\"device\"],\n",
    "        \"n_estimators\": 2,\n",
    "        \"random_state\": config[\"random_seed\"],\n",
    "        \"inference_precision\": torch.float32,\n",
    "    }\n",
    "    classifier = TabPFNClassifier(\n",
    "        **classifier_config, fit_mode=\"batched\", differentiable_input=False\n",
    "    )\n",
    "    classifier._initialize_model_variables()\n",
    "    # Optimizer uses finetuning-specific learning rate\n",
    "    optimizer = Adam(\n",
    "        classifier.model_.parameters(), lr=config[\"finetuning\"][\"learning_rate\"]\n",
    "    )\n",
    "\n",
    "    print(f\"Using device: {config['device']}\")\n",
    "    print(f\"Optimizer: Adam, Finetuning LR: {config['finetuning']['learning_rate']}\")\n",
    "    print(\"----------------------------------\\n\")\n",
    "    return classifier, optimizer, classifier_config"
   ]
  },
  {
   "cell_type": "markdown",
   "metadata": {
    "id": "zclv6wwHRUSY"
   },
   "source": [
    "### 4\\. Evaluation Function\n",
    "\n",
    "To monitor our progress, we need a function to evaluate the model. This function clones the current state of the fine-tuning classifier, fits it on the training data, and evaluates its performance (ROC AUC and Log Loss) on the held-out test set. This ensures that our evaluation metric is unbiased."
   ]
  },
  {
   "cell_type": "code",
   "execution_count": 4,
   "metadata": {
    "id": "AKZZnN1ERWw0"
   },
   "outputs": [],
   "source": [
    "def evaluate_model(\n",
    "    classifier: TabPFNClassifier,\n",
    "    eval_config: dict,\n",
    "    X_train: np.ndarray,\n",
    "    y_train: np.ndarray,\n",
    "    X_test: np.ndarray,\n",
    "    y_test: np.ndarray,\n",
    ") -> tuple[float, float]:\n",
    "    \"\"\"Evaluates the model's performance on the test set.\"\"\"\n",
    "    eval_classifier = clone_model_for_evaluation(\n",
    "        classifier, eval_config, TabPFNClassifier\n",
    "    )\n",
    "    eval_classifier.fit(X_train, y_train)\n",
    "\n",
    "    try:\n",
    "        probabilities = eval_classifier.predict_proba(X_test)\n",
    "        roc_auc = roc_auc_score(\n",
    "            y_test, probabilities, multi_class=\"ovr\", average=\"weighted\"\n",
    "        )\n",
    "        log_loss_score = log_loss(y_test, probabilities)\n",
    "    except Exception as e:\n",
    "        print(f\"An error occurred during evaluation: {e}\")\n",
    "        roc_auc, log_loss_score = np.nan, np.nan\n",
    "\n",
    "    return roc_auc, log_loss_score"
   ]
  },
  {
   "cell_type": "markdown",
   "metadata": {
    "id": "7JcMx_eARZPG"
   },
   "source": [
    "5. Main Fine-tuning Workflow\n",
    "Now we bring everything together.\n",
    "\n",
    "Configuration: We define a master config dictionary that holds all hyperparameters and settings for the data, model, and fine-tuning process.\n",
    "\n",
    "Initialization: We call our helper functions to prepare the data and initialize the model and optimizer.\n",
    "\n",
    "Data Loader: We create preprocessed datasets and a DataLoader to efficiently feed batches of data to the model during the fine-tuning loop.\n",
    "\n",
    "Training Loop: We loop for a specified number of epochs. In each epoch, we train the model on meta-batches from our dataloader. We evaluate the model's performance on the test set before fine-tuning begins (Epoch 0) and after each subsequent epoch.\n",
    "\n"
   ]
  },
  {
   "cell_type": "code",
   "execution_count": null,
   "metadata": {
    "colab": {
     "base_uri": "https://localhost:8080/",
     "height": 691,
     "referenced_widgets": [
      "5cfdd5dff8f74a178a5970ea689ca7dc",
      "9ae1c4904976453bb27d99e4616fd8d6",
      "6b513b8aef244597bbc9ddc0f58d26f1",
      "f260a6e27355402593bb52c60af22315",
      "35e84926348b479eb3c0190209b24074",
      "0f5f77fdc7d0483c93d7db6c467098aa",
      "a990b5b66ba84627b45830701fcfcbe9",
      "5785843878c54aab9d41ca116254b980",
      "72491b22f5e142d891165dd2e6652363",
      "abc1e723e2ba4b4e8ed371db9c8f05a4",
      "65a735e253634541ab8a28ff09c3e437",
      "4f84661359ef4c5e91ac5b54d9a1fb37",
      "b3a15513ab3640b2a4cc4b932646a70e",
      "d724c9e0ffcd4497a870b2cf54aa4ffa",
      "e60bdfe963c54ee089dece712755a3d9",
      "0d186615b69142aaa963fbb10d50c649",
      "458fc089bdf64c35bac942ea7540ba08",
      "28c68308251e4a0f9f08966fed6fee7d",
      "26b9253d638345b983f6c1ca42b5a82a",
      "8f8c6ee1f94149aaa2a5ac77eb6a4e36",
      "6225ec11f2e14d1f9f37502ded805391",
      "32c70c707dad4e17991b202e8775436d"
     ]
    },
    "id": "O3v5PmEwPTpO",
    "outputId": "b74f1dd1-1ec4-460a-a30b-f4f875cdffd6"
   },
   "outputs": [
    {
     "name": "stdout",
     "output_type": "stream",
     "text": [
      "--- 1. Data Preparation ---\n",
      "Loaded and split data: 70000 train, 30000 test samples.\n",
      "---------------------------\n",
      "\n",
      "--- 2. Model and Optimizer Setup ---\n"
     ]
    },
    {
     "name": "stderr",
     "output_type": "stream",
     "text": [
      "/usr/local/lib/python3.11/dist-packages/huggingface_hub/utils/_auth.py:94: UserWarning: \n",
      "The secret `HF_TOKEN` does not exist in your Colab secrets.\n",
      "To authenticate with the Hugging Face Hub, create a token in your settings tab (https://huggingface.co/settings/tokens), set it as secret in your Google Colab and restart your session.\n",
      "You will be able to reuse this secret in all of your notebooks.\n",
      "Please note that authentication is recommended but still optional to access public models or datasets.\n",
      "  warnings.warn(\n"
     ]
    },
    {
     "data": {
      "application/vnd.jupyter.widget-view+json": {
       "model_id": "5cfdd5dff8f74a178a5970ea689ca7dc",
       "version_major": 2,
       "version_minor": 0
      },
      "text/plain": [
       "(…)fn-v2-classifier-finetuned-zk73skhh.ckpt:   0%|          | 0.00/29.0M [00:00<?, ?B/s]"
      ]
     },
     "metadata": {},
     "output_type": "display_data"
    },
    {
     "data": {
      "application/vnd.jupyter.widget-view+json": {
       "model_id": "4f84661359ef4c5e91ac5b54d9a1fb37",
       "version_major": 2,
       "version_minor": 0
      },
      "text/plain": [
       "config.json:   0%|          | 0.00/37.0 [00:00<?, ?B/s]"
      ]
     },
     "metadata": {},
     "output_type": "display_data"
    },
    {
     "name": "stdout",
     "output_type": "stream",
     "text": [
      "Using device: cuda\n",
      "Optimizer: Adam, Finetuning LR: 1e-05\n",
      "----------------------------------\n",
      "\n",
      "--- 3. Starting Finetuning & Evaluation ---\n",
      "📊 Initial Evaluation | Test ROC: 0.9620, Test Log Loss: 0.3656\n",
      "\n"
     ]
    },
    {
     "name": "stderr",
     "output_type": "stream",
     "text": [
      "Finetuning Epoch 1: 100%|██████████| 7/7 [02:25<00:00, 20.82s/it, loss=0.3926]\n"
     ]
    },
    {
     "name": "stdout",
     "output_type": "stream",
     "text": [
      "📊 Epoch 1 Evaluation | Test ROC: 0.9686, Test Log Loss: 0.3288\n",
      "\n"
     ]
    },
    {
     "name": "stderr",
     "output_type": "stream",
     "text": [
      "Finetuning Epoch 2: 100%|██████████| 7/7 [02:24<00:00, 20.67s/it, loss=0.4172]\n"
     ]
    },
    {
     "name": "stdout",
     "output_type": "stream",
     "text": [
      "📊 Epoch 2 Evaluation | Test ROC: 0.9684, Test Log Loss: 0.3338\n",
      "\n"
     ]
    },
    {
     "name": "stderr",
     "output_type": "stream",
     "text": [
      "Finetuning Epoch 3: 100%|██████████| 7/7 [02:24<00:00, 20.68s/it, loss=0.3823]\n"
     ]
    },
    {
     "name": "stdout",
     "output_type": "stream",
     "text": [
      "📊 Epoch 3 Evaluation | Test ROC: 0.9693, Test Log Loss: 0.3273\n",
      "\n"
     ]
    },
    {
     "name": "stderr",
     "output_type": "stream",
     "text": [
      "Finetuning Epoch 4: 100%|██████████| 7/7 [02:24<00:00, 20.62s/it, loss=0.3708]\n"
     ]
    },
    {
     "name": "stdout",
     "output_type": "stream",
     "text": [
      "📊 Epoch 4 Evaluation | Test ROC: 0.9705, Test Log Loss: 0.3182\n",
      "\n"
     ]
    },
    {
     "name": "stderr",
     "output_type": "stream",
     "text": [
      "Finetuning Epoch 5: 100%|██████████| 7/7 [02:24<00:00, 20.68s/it, loss=0.3953]\n"
     ]
    },
    {
     "name": "stdout",
     "output_type": "stream",
     "text": [
      "📊 Epoch 5 Evaluation | Test ROC: 0.9703, Test Log Loss: 0.3189\n",
      "\n"
     ]
    },
    {
     "name": "stderr",
     "output_type": "stream",
     "text": [
      "Finetuning Epoch 6:  29%|██▊       | 2/7 [00:41<01:43, 20.67s/it, loss=0.3535]"
     ]
    }
   ],
   "source": [
    "# --- Master Configuration ---\n",
    "config = {\n",
    "    \"device\": \"cuda\" if torch.cuda.is_available() else \"cpu\",\n",
    "    \"num_samples_to_use\": 100_000,\n",
    "    \"random_seed\": 42,\n",
    "    \"test_set_ratio\": 0.3,\n",
    "    \"n_inference_context_samples\": 10000,\n",
    "}\n",
    "config[\"finetuning\"] = {\n",
    "    \"epochs\": 10,\n",
    "    \"learning_rate\": 1e-5,\n",
    "    \"meta_batch_size\": 1,\n",
    "    \"batch_size\": int(\n",
    "        min(\n",
    "            config[\"n_inference_context_samples\"],\n",
    "            config[\"num_samples_to_use\"] * (1 - config[\"test_set_ratio\"]),\n",
    "        )\n",
    "    ),\n",
    "}\n",
    "\n",
    "# --- Setup Data, Model, and Dataloader ---\n",
    "X_train, X_test, y_train, y_test = prepare_data(config)\n",
    "classifier, optimizer, classifier_config = setup_model_and_optimizer(config)\n",
    "\n",
    "splitter = partial(train_test_split, test_size=config[\"test_set_ratio\"])\n",
    "training_datasets = classifier.get_preprocessed_datasets(\n",
    "    X_train, y_train, splitter, config[\"finetuning\"][\"batch_size\"]\n",
    ")\n",
    "finetuning_dataloader = DataLoader(\n",
    "    training_datasets,\n",
    "    batch_size=config[\"finetuning\"][\"meta_batch_size\"],\n",
    "    collate_fn=meta_dataset_collator,\n",
    ")\n",
    "loss_function = torch.nn.NLLLoss()\n",
    "\n",
    "eval_config = {\n",
    "    **classifier_config,\n",
    "    \"inference_config\": {\"SUBSAMPLE_SAMPLES\": config[\"n_inference_context_samples\"]},\n",
    "}\n",
    "\n",
    "# --- Finetuning and Evaluation Loop ---\n",
    "print(\"--- 3. Starting Finetuning & Evaluation ---\")\n",
    "for epoch in range(config[\"finetuning\"][\"epochs\"] + 1):\n",
    "    if epoch > 0:\n",
    "        # Finetuning Step\n",
    "        progress_bar = tqdm(finetuning_dataloader, desc=f\"Finetuning Epoch {epoch}\")\n",
    "        for (\n",
    "            X_train_batch,\n",
    "            X_test_batch,\n",
    "            y_train_batch,\n",
    "            y_test_batch,\n",
    "            cat_ixs,\n",
    "            confs,\n",
    "        ) in progress_bar:\n",
    "            if len(np.unique(y_train_batch)) != len(np.unique(y_test_batch)):\n",
    "                continue  # Skip batch if splits don't have all classes\n",
    "\n",
    "            optimizer.zero_grad()\n",
    "            classifier.fit_from_preprocessed(\n",
    "                X_train_batch, y_train_batch, cat_ixs, confs\n",
    "            )\n",
    "            predictions = classifier.forward(X_test_batch)\n",
    "            loss = loss_function(\n",
    "                torch.log(predictions), y_test_batch.to(config[\"device\"])\n",
    "            )\n",
    "            loss.backward()\n",
    "            optimizer.step()\n",
    "\n",
    "            # Set the postfix of the progress bar to show the current loss\n",
    "            progress_bar.set_postfix(loss=f\"{loss.item():.4f}\")\n",
    "\n",
    "    # Evaluation Step (runs before finetuning and after each epoch)\n",
    "    epoch_roc, epoch_log_loss = evaluate_model(\n",
    "        classifier, eval_config, X_train, y_train, X_test, y_test\n",
    "    )\n",
    "\n",
    "    status = \"Initial\" if epoch == 0 else f\"Epoch {epoch}\"\n",
    "    print(\n",
    "        f\"📊 {status} Evaluation | Test ROC: {epoch_roc:.4f}, Test Log Loss: {epoch_log_loss:.4f}\\n\"\n",
    "    )\n",
    "\n",
    "print(\"--- ✅ Finetuning Finished ---\")"
   ]
  }
 ],
 "metadata": {
  "accelerator": "GPU",
  "colab": {
   "gpuType": "A100",
   "machine_shape": "hm",
   "provenance": []
  },
  "kernelspec": {
   "display_name": "Python 3",
   "name": "python3"
  },
  "language_info": {
   "name": "python"
  },
  "widgets": {
   "application/vnd.jupyter.widget-state+json": {
    "0d186615b69142aaa963fbb10d50c649": {
     "model_module": "@jupyter-widgets/base",
     "model_module_version": "1.2.0",
     "model_name": "LayoutModel",
     "state": {
      "_model_module": "@jupyter-widgets/base",
      "_model_module_version": "1.2.0",
      "_model_name": "LayoutModel",
      "_view_count": null,
      "_view_module": "@jupyter-widgets/base",
      "_view_module_version": "1.2.0",
      "_view_name": "LayoutView",
      "align_content": null,
      "align_items": null,
      "align_self": null,
      "border": null,
      "bottom": null,
      "display": null,
      "flex": null,
      "flex_flow": null,
      "grid_area": null,
      "grid_auto_columns": null,
      "grid_auto_flow": null,
      "grid_auto_rows": null,
      "grid_column": null,
      "grid_gap": null,
      "grid_row": null,
      "grid_template_areas": null,
      "grid_template_columns": null,
      "grid_template_rows": null,
      "height": null,
      "justify_content": null,
      "justify_items": null,
      "left": null,
      "margin": null,
      "max_height": null,
      "max_width": null,
      "min_height": null,
      "min_width": null,
      "object_fit": null,
      "object_position": null,
      "order": null,
      "overflow": null,
      "overflow_x": null,
      "overflow_y": null,
      "padding": null,
      "right": null,
      "top": null,
      "visibility": null,
      "width": null
     }
    },
    "0f5f77fdc7d0483c93d7db6c467098aa": {
     "model_module": "@jupyter-widgets/base",
     "model_module_version": "1.2.0",
     "model_name": "LayoutModel",
     "state": {
      "_model_module": "@jupyter-widgets/base",
      "_model_module_version": "1.2.0",
      "_model_name": "LayoutModel",
      "_view_count": null,
      "_view_module": "@jupyter-widgets/base",
      "_view_module_version": "1.2.0",
      "_view_name": "LayoutView",
      "align_content": null,
      "align_items": null,
      "align_self": null,
      "border": null,
      "bottom": null,
      "display": null,
      "flex": null,
      "flex_flow": null,
      "grid_area": null,
      "grid_auto_columns": null,
      "grid_auto_flow": null,
      "grid_auto_rows": null,
      "grid_column": null,
      "grid_gap": null,
      "grid_row": null,
      "grid_template_areas": null,
      "grid_template_columns": null,
      "grid_template_rows": null,
      "height": null,
      "justify_content": null,
      "justify_items": null,
      "left": null,
      "margin": null,
      "max_height": null,
      "max_width": null,
      "min_height": null,
      "min_width": null,
      "object_fit": null,
      "object_position": null,
      "order": null,
      "overflow": null,
      "overflow_x": null,
      "overflow_y": null,
      "padding": null,
      "right": null,
      "top": null,
      "visibility": null,
      "width": null
     }
    },
    "26b9253d638345b983f6c1ca42b5a82a": {
     "model_module": "@jupyter-widgets/base",
     "model_module_version": "1.2.0",
     "model_name": "LayoutModel",
     "state": {
      "_model_module": "@jupyter-widgets/base",
      "_model_module_version": "1.2.0",
      "_model_name": "LayoutModel",
      "_view_count": null,
      "_view_module": "@jupyter-widgets/base",
      "_view_module_version": "1.2.0",
      "_view_name": "LayoutView",
      "align_content": null,
      "align_items": null,
      "align_self": null,
      "border": null,
      "bottom": null,
      "display": null,
      "flex": null,
      "flex_flow": null,
      "grid_area": null,
      "grid_auto_columns": null,
      "grid_auto_flow": null,
      "grid_auto_rows": null,
      "grid_column": null,
      "grid_gap": null,
      "grid_row": null,
      "grid_template_areas": null,
      "grid_template_columns": null,
      "grid_template_rows": null,
      "height": null,
      "justify_content": null,
      "justify_items": null,
      "left": null,
      "margin": null,
      "max_height": null,
      "max_width": null,
      "min_height": null,
      "min_width": null,
      "object_fit": null,
      "object_position": null,
      "order": null,
      "overflow": null,
      "overflow_x": null,
      "overflow_y": null,
      "padding": null,
      "right": null,
      "top": null,
      "visibility": null,
      "width": null
     }
    },
    "28c68308251e4a0f9f08966fed6fee7d": {
     "model_module": "@jupyter-widgets/controls",
     "model_module_version": "1.5.0",
     "model_name": "DescriptionStyleModel",
     "state": {
      "_model_module": "@jupyter-widgets/controls",
      "_model_module_version": "1.5.0",
      "_model_name": "DescriptionStyleModel",
      "_view_count": null,
      "_view_module": "@jupyter-widgets/base",
      "_view_module_version": "1.2.0",
      "_view_name": "StyleView",
      "description_width": ""
     }
    },
    "32c70c707dad4e17991b202e8775436d": {
     "model_module": "@jupyter-widgets/controls",
     "model_module_version": "1.5.0",
     "model_name": "DescriptionStyleModel",
     "state": {
      "_model_module": "@jupyter-widgets/controls",
      "_model_module_version": "1.5.0",
      "_model_name": "DescriptionStyleModel",
      "_view_count": null,
      "_view_module": "@jupyter-widgets/base",
      "_view_module_version": "1.2.0",
      "_view_name": "StyleView",
      "description_width": ""
     }
    },
    "35e84926348b479eb3c0190209b24074": {
     "model_module": "@jupyter-widgets/base",
     "model_module_version": "1.2.0",
     "model_name": "LayoutModel",
     "state": {
      "_model_module": "@jupyter-widgets/base",
      "_model_module_version": "1.2.0",
      "_model_name": "LayoutModel",
      "_view_count": null,
      "_view_module": "@jupyter-widgets/base",
      "_view_module_version": "1.2.0",
      "_view_name": "LayoutView",
      "align_content": null,
      "align_items": null,
      "align_self": null,
      "border": null,
      "bottom": null,
      "display": null,
      "flex": null,
      "flex_flow": null,
      "grid_area": null,
      "grid_auto_columns": null,
      "grid_auto_flow": null,
      "grid_auto_rows": null,
      "grid_column": null,
      "grid_gap": null,
      "grid_row": null,
      "grid_template_areas": null,
      "grid_template_columns": null,
      "grid_template_rows": null,
      "height": null,
      "justify_content": null,
      "justify_items": null,
      "left": null,
      "margin": null,
      "max_height": null,
      "max_width": null,
      "min_height": null,
      "min_width": null,
      "object_fit": null,
      "object_position": null,
      "order": null,
      "overflow": null,
      "overflow_x": null,
      "overflow_y": null,
      "padding": null,
      "right": null,
      "top": null,
      "visibility": null,
      "width": null
     }
    },
    "458fc089bdf64c35bac942ea7540ba08": {
     "model_module": "@jupyter-widgets/base",
     "model_module_version": "1.2.0",
     "model_name": "LayoutModel",
     "state": {
      "_model_module": "@jupyter-widgets/base",
      "_model_module_version": "1.2.0",
      "_model_name": "LayoutModel",
      "_view_count": null,
      "_view_module": "@jupyter-widgets/base",
      "_view_module_version": "1.2.0",
      "_view_name": "LayoutView",
      "align_content": null,
      "align_items": null,
      "align_self": null,
      "border": null,
      "bottom": null,
      "display": null,
      "flex": null,
      "flex_flow": null,
      "grid_area": null,
      "grid_auto_columns": null,
      "grid_auto_flow": null,
      "grid_auto_rows": null,
      "grid_column": null,
      "grid_gap": null,
      "grid_row": null,
      "grid_template_areas": null,
      "grid_template_columns": null,
      "grid_template_rows": null,
      "height": null,
      "justify_content": null,
      "justify_items": null,
      "left": null,
      "margin": null,
      "max_height": null,
      "max_width": null,
      "min_height": null,
      "min_width": null,
      "object_fit": null,
      "object_position": null,
      "order": null,
      "overflow": null,
      "overflow_x": null,
      "overflow_y": null,
      "padding": null,
      "right": null,
      "top": null,
      "visibility": null,
      "width": null
     }
    },
    "4f84661359ef4c5e91ac5b54d9a1fb37": {
     "model_module": "@jupyter-widgets/controls",
     "model_module_version": "1.5.0",
     "model_name": "HBoxModel",
     "state": {
      "_dom_classes": [],
      "_model_module": "@jupyter-widgets/controls",
      "_model_module_version": "1.5.0",
      "_model_name": "HBoxModel",
      "_view_count": null,
      "_view_module": "@jupyter-widgets/controls",
      "_view_module_version": "1.5.0",
      "_view_name": "HBoxView",
      "box_style": "",
      "children": [
       "IPY_MODEL_b3a15513ab3640b2a4cc4b932646a70e",
       "IPY_MODEL_d724c9e0ffcd4497a870b2cf54aa4ffa",
       "IPY_MODEL_e60bdfe963c54ee089dece712755a3d9"
      ],
      "layout": "IPY_MODEL_0d186615b69142aaa963fbb10d50c649"
     }
    },
    "5785843878c54aab9d41ca116254b980": {
     "model_module": "@jupyter-widgets/base",
     "model_module_version": "1.2.0",
     "model_name": "LayoutModel",
     "state": {
      "_model_module": "@jupyter-widgets/base",
      "_model_module_version": "1.2.0",
      "_model_name": "LayoutModel",
      "_view_count": null,
      "_view_module": "@jupyter-widgets/base",
      "_view_module_version": "1.2.0",
      "_view_name": "LayoutView",
      "align_content": null,
      "align_items": null,
      "align_self": null,
      "border": null,
      "bottom": null,
      "display": null,
      "flex": null,
      "flex_flow": null,
      "grid_area": null,
      "grid_auto_columns": null,
      "grid_auto_flow": null,
      "grid_auto_rows": null,
      "grid_column": null,
      "grid_gap": null,
      "grid_row": null,
      "grid_template_areas": null,
      "grid_template_columns": null,
      "grid_template_rows": null,
      "height": null,
      "justify_content": null,
      "justify_items": null,
      "left": null,
      "margin": null,
      "max_height": null,
      "max_width": null,
      "min_height": null,
      "min_width": null,
      "object_fit": null,
      "object_position": null,
      "order": null,
      "overflow": null,
      "overflow_x": null,
      "overflow_y": null,
      "padding": null,
      "right": null,
      "top": null,
      "visibility": null,
      "width": null
     }
    },
    "5cfdd5dff8f74a178a5970ea689ca7dc": {
     "model_module": "@jupyter-widgets/controls",
     "model_module_version": "1.5.0",
     "model_name": "HBoxModel",
     "state": {
      "_dom_classes": [],
      "_model_module": "@jupyter-widgets/controls",
      "_model_module_version": "1.5.0",
      "_model_name": "HBoxModel",
      "_view_count": null,
      "_view_module": "@jupyter-widgets/controls",
      "_view_module_version": "1.5.0",
      "_view_name": "HBoxView",
      "box_style": "",
      "children": [
       "IPY_MODEL_9ae1c4904976453bb27d99e4616fd8d6",
       "IPY_MODEL_6b513b8aef244597bbc9ddc0f58d26f1",
       "IPY_MODEL_f260a6e27355402593bb52c60af22315"
      ],
      "layout": "IPY_MODEL_35e84926348b479eb3c0190209b24074"
     }
    },
    "6225ec11f2e14d1f9f37502ded805391": {
     "model_module": "@jupyter-widgets/base",
     "model_module_version": "1.2.0",
     "model_name": "LayoutModel",
     "state": {
      "_model_module": "@jupyter-widgets/base",
      "_model_module_version": "1.2.0",
      "_model_name": "LayoutModel",
      "_view_count": null,
      "_view_module": "@jupyter-widgets/base",
      "_view_module_version": "1.2.0",
      "_view_name": "LayoutView",
      "align_content": null,
      "align_items": null,
      "align_self": null,
      "border": null,
      "bottom": null,
      "display": null,
      "flex": null,
      "flex_flow": null,
      "grid_area": null,
      "grid_auto_columns": null,
      "grid_auto_flow": null,
      "grid_auto_rows": null,
      "grid_column": null,
      "grid_gap": null,
      "grid_row": null,
      "grid_template_areas": null,
      "grid_template_columns": null,
      "grid_template_rows": null,
      "height": null,
      "justify_content": null,
      "justify_items": null,
      "left": null,
      "margin": null,
      "max_height": null,
      "max_width": null,
      "min_height": null,
      "min_width": null,
      "object_fit": null,
      "object_position": null,
      "order": null,
      "overflow": null,
      "overflow_x": null,
      "overflow_y": null,
      "padding": null,
      "right": null,
      "top": null,
      "visibility": null,
      "width": null
     }
    },
    "65a735e253634541ab8a28ff09c3e437": {
     "model_module": "@jupyter-widgets/controls",
     "model_module_version": "1.5.0",
     "model_name": "DescriptionStyleModel",
     "state": {
      "_model_module": "@jupyter-widgets/controls",
      "_model_module_version": "1.5.0",
      "_model_name": "DescriptionStyleModel",
      "_view_count": null,
      "_view_module": "@jupyter-widgets/base",
      "_view_module_version": "1.2.0",
      "_view_name": "StyleView",
      "description_width": ""
     }
    },
    "6b513b8aef244597bbc9ddc0f58d26f1": {
     "model_module": "@jupyter-widgets/controls",
     "model_module_version": "1.5.0",
     "model_name": "FloatProgressModel",
     "state": {
      "_dom_classes": [],
      "_model_module": "@jupyter-widgets/controls",
      "_model_module_version": "1.5.0",
      "_model_name": "FloatProgressModel",
      "_view_count": null,
      "_view_module": "@jupyter-widgets/controls",
      "_view_module_version": "1.5.0",
      "_view_name": "ProgressView",
      "bar_style": "success",
      "description": "",
      "description_tooltip": null,
      "layout": "IPY_MODEL_5785843878c54aab9d41ca116254b980",
      "max": 29009539,
      "min": 0,
      "orientation": "horizontal",
      "style": "IPY_MODEL_72491b22f5e142d891165dd2e6652363",
      "value": 29009539
     }
    },
    "72491b22f5e142d891165dd2e6652363": {
     "model_module": "@jupyter-widgets/controls",
     "model_module_version": "1.5.0",
     "model_name": "ProgressStyleModel",
     "state": {
      "_model_module": "@jupyter-widgets/controls",
      "_model_module_version": "1.5.0",
      "_model_name": "ProgressStyleModel",
      "_view_count": null,
      "_view_module": "@jupyter-widgets/base",
      "_view_module_version": "1.2.0",
      "_view_name": "StyleView",
      "bar_color": null,
      "description_width": ""
     }
    },
    "8f8c6ee1f94149aaa2a5ac77eb6a4e36": {
     "model_module": "@jupyter-widgets/controls",
     "model_module_version": "1.5.0",
     "model_name": "ProgressStyleModel",
     "state": {
      "_model_module": "@jupyter-widgets/controls",
      "_model_module_version": "1.5.0",
      "_model_name": "ProgressStyleModel",
      "_view_count": null,
      "_view_module": "@jupyter-widgets/base",
      "_view_module_version": "1.2.0",
      "_view_name": "StyleView",
      "bar_color": null,
      "description_width": ""
     }
    },
    "9ae1c4904976453bb27d99e4616fd8d6": {
     "model_module": "@jupyter-widgets/controls",
     "model_module_version": "1.5.0",
     "model_name": "HTMLModel",
     "state": {
      "_dom_classes": [],
      "_model_module": "@jupyter-widgets/controls",
      "_model_module_version": "1.5.0",
      "_model_name": "HTMLModel",
      "_view_count": null,
      "_view_module": "@jupyter-widgets/controls",
      "_view_module_version": "1.5.0",
      "_view_name": "HTMLView",
      "description": "",
      "description_tooltip": null,
      "layout": "IPY_MODEL_0f5f77fdc7d0483c93d7db6c467098aa",
      "placeholder": "​",
      "style": "IPY_MODEL_a990b5b66ba84627b45830701fcfcbe9",
      "value": "(…)fn-v2-classifier-finetuned-zk73skhh.ckpt: 100%"
     }
    },
    "a990b5b66ba84627b45830701fcfcbe9": {
     "model_module": "@jupyter-widgets/controls",
     "model_module_version": "1.5.0",
     "model_name": "DescriptionStyleModel",
     "state": {
      "_model_module": "@jupyter-widgets/controls",
      "_model_module_version": "1.5.0",
      "_model_name": "DescriptionStyleModel",
      "_view_count": null,
      "_view_module": "@jupyter-widgets/base",
      "_view_module_version": "1.2.0",
      "_view_name": "StyleView",
      "description_width": ""
     }
    },
    "abc1e723e2ba4b4e8ed371db9c8f05a4": {
     "model_module": "@jupyter-widgets/base",
     "model_module_version": "1.2.0",
     "model_name": "LayoutModel",
     "state": {
      "_model_module": "@jupyter-widgets/base",
      "_model_module_version": "1.2.0",
      "_model_name": "LayoutModel",
      "_view_count": null,
      "_view_module": "@jupyter-widgets/base",
      "_view_module_version": "1.2.0",
      "_view_name": "LayoutView",
      "align_content": null,
      "align_items": null,
      "align_self": null,
      "border": null,
      "bottom": null,
      "display": null,
      "flex": null,
      "flex_flow": null,
      "grid_area": null,
      "grid_auto_columns": null,
      "grid_auto_flow": null,
      "grid_auto_rows": null,
      "grid_column": null,
      "grid_gap": null,
      "grid_row": null,
      "grid_template_areas": null,
      "grid_template_columns": null,
      "grid_template_rows": null,
      "height": null,
      "justify_content": null,
      "justify_items": null,
      "left": null,
      "margin": null,
      "max_height": null,
      "max_width": null,
      "min_height": null,
      "min_width": null,
      "object_fit": null,
      "object_position": null,
      "order": null,
      "overflow": null,
      "overflow_x": null,
      "overflow_y": null,
      "padding": null,
      "right": null,
      "top": null,
      "visibility": null,
      "width": null
     }
    },
    "b3a15513ab3640b2a4cc4b932646a70e": {
     "model_module": "@jupyter-widgets/controls",
     "model_module_version": "1.5.0",
     "model_name": "HTMLModel",
     "state": {
      "_dom_classes": [],
      "_model_module": "@jupyter-widgets/controls",
      "_model_module_version": "1.5.0",
      "_model_name": "HTMLModel",
      "_view_count": null,
      "_view_module": "@jupyter-widgets/controls",
      "_view_module_version": "1.5.0",
      "_view_name": "HTMLView",
      "description": "",
      "description_tooltip": null,
      "layout": "IPY_MODEL_458fc089bdf64c35bac942ea7540ba08",
      "placeholder": "​",
      "style": "IPY_MODEL_28c68308251e4a0f9f08966fed6fee7d",
      "value": "config.json: 100%"
     }
    },
    "d724c9e0ffcd4497a870b2cf54aa4ffa": {
     "model_module": "@jupyter-widgets/controls",
     "model_module_version": "1.5.0",
     "model_name": "FloatProgressModel",
     "state": {
      "_dom_classes": [],
      "_model_module": "@jupyter-widgets/controls",
      "_model_module_version": "1.5.0",
      "_model_name": "FloatProgressModel",
      "_view_count": null,
      "_view_module": "@jupyter-widgets/controls",
      "_view_module_version": "1.5.0",
      "_view_name": "ProgressView",
      "bar_style": "success",
      "description": "",
      "description_tooltip": null,
      "layout": "IPY_MODEL_26b9253d638345b983f6c1ca42b5a82a",
      "max": 37,
      "min": 0,
      "orientation": "horizontal",
      "style": "IPY_MODEL_8f8c6ee1f94149aaa2a5ac77eb6a4e36",
      "value": 37
     }
    },
    "e60bdfe963c54ee089dece712755a3d9": {
     "model_module": "@jupyter-widgets/controls",
     "model_module_version": "1.5.0",
     "model_name": "HTMLModel",
     "state": {
      "_dom_classes": [],
      "_model_module": "@jupyter-widgets/controls",
      "_model_module_version": "1.5.0",
      "_model_name": "HTMLModel",
      "_view_count": null,
      "_view_module": "@jupyter-widgets/controls",
      "_view_module_version": "1.5.0",
      "_view_name": "HTMLView",
      "description": "",
      "description_tooltip": null,
      "layout": "IPY_MODEL_6225ec11f2e14d1f9f37502ded805391",
      "placeholder": "​",
      "style": "IPY_MODEL_32c70c707dad4e17991b202e8775436d",
      "value": " 37.0/37.0 [00:00&lt;00:00, 4.85kB/s]"
     }
    },
    "f260a6e27355402593bb52c60af22315": {
     "model_module": "@jupyter-widgets/controls",
     "model_module_version": "1.5.0",
     "model_name": "HTMLModel",
     "state": {
      "_dom_classes": [],
      "_model_module": "@jupyter-widgets/controls",
      "_model_module_version": "1.5.0",
      "_model_name": "HTMLModel",
      "_view_count": null,
      "_view_module": "@jupyter-widgets/controls",
      "_view_module_version": "1.5.0",
      "_view_name": "HTMLView",
      "description": "",
      "description_tooltip": null,
      "layout": "IPY_MODEL_abc1e723e2ba4b4e8ed371db9c8f05a4",
      "placeholder": "​",
      "style": "IPY_MODEL_65a735e253634541ab8a28ff09c3e437",
      "value": " 29.0M/29.0M [00:00&lt;00:00, 169MB/s]"
     }
    }
   }
  }
 },
 "nbformat": 4,
 "nbformat_minor": 0
}